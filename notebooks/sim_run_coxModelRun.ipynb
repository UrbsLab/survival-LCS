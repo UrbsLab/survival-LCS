{
 "cells": [
  {
   "cell_type": "code",
   "execution_count": 1,
   "id": "3add1c49",
   "metadata": {},
   "outputs": [],
   "source": [
    "import os\n",
    "import sys\n",
    "import dask\n",
    "import shutil\n",
    "import pickle\n",
    "import pandas as pd\n",
    "from survivalCoxRun import ExperimentRun\n",
    "from sim_utils import get_parameters, get_cluster, run_parellel"
   ]
  },
  {
   "cell_type": "code",
   "execution_count": 2,
   "id": "f2712578",
   "metadata": {},
   "outputs": [],
   "source": [
    "homedir = \"/home/bandheyh/common/survival-LCS-telo\"\n",
    "sys.path.append(homedir)"
   ]
  },
  {
   "cell_type": "code",
   "execution_count": 3,
   "id": "02c21d15",
   "metadata": {},
   "outputs": [],
   "source": [
    "HPC = True\n",
    "DEBUG = False\n",
    "\n",
    "outputdir = homedir + \"/pipeline\"\n",
    "model_list = ['me', 'epi', 'het', 'add']\n",
    "nfeat_list = ['f100', 'f1000', 'f10000']\n",
    "maf_list = ['maf0.2', 'maf0.4']\n",
    "censor_list = [0.1, 0.4, 0.8]\n",
    "\n",
    "time_label = \"eventTime\"\n",
    "status_label = \"eventStatus\"\n",
    "instance_label=\"inst\"\n",
    "T = 100\n",
    "knots = 8\n",
    "\n",
    "iterations = 50000\n",
    "random_state = 42\n",
    "\n",
    "cv_count = 5\n",
    "pmethod = \"random\"\n",
    "isContinuous = True\n",
    "nu = 1\n",
    "rulepop = 1000\n"
   ]
  },
  {
   "cell_type": "code",
   "execution_count": 4,
   "id": "e38fd9d9",
   "metadata": {},
   "outputs": [],
   "source": [
    "if DEBUG:\n",
    "    outputdir = homedir + \"/test\"\n",
    "    model_list = ['me']\n",
    "    censor_list = [0.1, 0.4, 0.8]\n",
    "    nfeat_list = ['f100']\n",
    "    maf_list = ['maf0.2']\n",
    "    iterations = 1000\n",
    "    cv_count = 3"
   ]
  },
  {
   "cell_type": "code",
   "execution_count": 5,
   "id": "cf3d6de8",
   "metadata": {},
   "outputs": [],
   "source": [
    "### Create empty brier score DataFrame\n",
    "cox_brier_df = pd.DataFrame()\n",
    "\n",
    "# make_folder_structure(outputdir, model_list)\n",
    "\n",
    "job_obj_list = list()\n",
    "brier_df_list = list()"
   ]
  },
  {
   "cell_type": "code",
   "execution_count": 6,
   "id": "e5b17403",
   "metadata": {},
   "outputs": [],
   "source": [
    "if os.path.exists(homedir + '/dask_logs/'):\n",
    "    shutil.rmtree(homedir + '/dask_logs/')\n",
    "if not os.path.exists(homedir + '/dask_logs/'):\n",
    "    os.mkdir(homedir + '/dask_logs/')"
   ]
  },
  {
   "cell_type": "code",
   "execution_count": 7,
   "id": "133e4ea5",
   "metadata": {},
   "outputs": [
    {
     "name": "stdout",
     "output_type": "stream",
     "text": [
      "Running dask-cluster\n",
      "{'type': 'Scheduler', 'id': 'Scheduler-cd3a4ac4-3c1c-40b1-97c2-c079ba5c9dab', 'address': 'tcp://172.21.0.91:36275', 'services': {'dashboard': 46541}, 'started': 1732012908.8187213, 'workers': {}}\n"
     ]
    },
    {
     "name": "stderr",
     "output_type": "stream",
     "text": [
      "/home/bandheyh/common/anaconda3/envs/slcs/lib/python3.9/site-packages/distributed/node.py:182: UserWarning: Port 8787 is already in use.\n",
      "Perhaps you already have a cluster running?\n",
      "Hosting the HTTP server on port 46541 instead\n",
      "  warnings.warn(\n"
     ]
    }
   ],
   "source": [
    "cluster = get_cluster(output_path=homedir)"
   ]
  },
  {
   "cell_type": "code",
   "execution_count": 8,
   "id": "a6c3477d",
   "metadata": {},
   "outputs": [],
   "source": [
    "for i in range(0,len(model_list)):\n",
    "    for j in range(0,len(nfeat_list)):\n",
    "        for k in range(0,len(maf_list)):\n",
    "            g, mtype, d, m, o, e, m0_path, m0_type, m1_path, m1_type = get_parameters(homedir, outputdir, \n",
    "                                                                                      model_list, nfeat_list, maf_list, \n",
    "                                                                                      i, j, k)\n",
    "            gametes_data_path = g\n",
    "            gametes_model_path_0 = m0_path\n",
    "            gametes_model_path_1 = m1_path\n",
    "            data_path = d\n",
    "            model_path = m\n",
    "            output_path = o\n",
    "            experiment_name = e\n",
    "            model0_type = m0_type\n",
    "            model1_type = m1_type\n",
    "            model_type = mtype\n",
    "\n",
    "            for l in range(0, len(censor_list)):\n",
    "                for m in range(0, cv_count):\n",
    "                    slcs = ExperimentRun(data_path, model_path, output_path, model_type, m, censor_list[l])\n",
    "                    if HPC == False:\n",
    "                        ibs = slcs.run()\n",
    "                        brier_df_list.append(ibs)\n",
    "                    else:\n",
    "                        job_obj_list.append(slcs)"
   ]
  },
  {
   "cell_type": "code",
   "execution_count": 9,
   "id": "764ce9ab",
   "metadata": {},
   "outputs": [
    {
     "name": "stdout",
     "output_type": "stream",
     "text": [
      "<survivalCoxRun.ExperimentRun object at 0x15551ae1c0d0>\n",
      "360\n"
     ]
    }
   ],
   "source": [
    "print(job_obj_list[0])\n",
    "print(len(job_obj_list))"
   ]
  },
  {
   "cell_type": "code",
   "execution_count": 10,
   "id": "0982d9c3",
   "metadata": {},
   "outputs": [],
   "source": [
    "if HPC == True:\n",
    "    delayed_results = []\n",
    "    for model in job_obj_list:\n",
    "        brier_df = dask.delayed(run_parellel)(model)\n",
    "        delayed_results.append(brier_df)\n",
    "    results = dask.compute(*delayed_results)"
   ]
  },
  {
   "cell_type": "code",
   "execution_count": 11,
   "id": "8e60b7be",
   "metadata": {},
   "outputs": [],
   "source": [
    "with open(outputdir + '/results_coxmodels_parallel.pkl', 'wb') as file:\n",
    "    pickle.dump(results, file, pickle.HIGHEST_PROTOCOL)"
   ]
  },
  {
   "cell_type": "code",
   "execution_count": null,
   "id": "fbf67099",
   "metadata": {},
   "outputs": [],
   "source": []
  }
 ],
 "metadata": {
  "kernelspec": {
   "display_name": "Python [conda env:slcs]",
   "language": "python",
   "name": "conda-env-slcs-py"
  },
  "language_info": {
   "codemirror_mode": {
    "name": "ipython",
    "version": 3
   },
   "file_extension": ".py",
   "mimetype": "text/x-python",
   "name": "python",
   "nbconvert_exporter": "python",
   "pygments_lexer": "ipython3",
   "version": "3.9.19"
  }
 },
 "nbformat": 4,
 "nbformat_minor": 5
}
