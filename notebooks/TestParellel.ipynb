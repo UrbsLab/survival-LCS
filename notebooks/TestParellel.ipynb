{
 "cells": [
  {
   "cell_type": "code",
   "execution_count": 1,
   "id": "a6c3477d",
   "metadata": {},
   "outputs": [],
   "source": [
    "import sys\n",
    "import dask\n",
    "import time\n",
    "from sim_utils import get_cluster, run_parellel"
   ]
  },
  {
   "cell_type": "code",
   "execution_count": 2,
   "id": "c06a6b6f",
   "metadata": {},
   "outputs": [],
   "source": [
    "class Test:\n",
    "    def run(self):\n",
    "        time.sleep(20)\n",
    "        return 1"
   ]
  },
  {
   "cell_type": "code",
   "execution_count": 3,
   "id": "cd9c52c0",
   "metadata": {},
   "outputs": [],
   "source": [
    "HPC = True\n",
    "homedir = \"/home/bandheyh/common/survival-LCS-telo\""
   ]
  },
  {
   "cell_type": "code",
   "execution_count": 4,
   "id": "aca7ec7b",
   "metadata": {},
   "outputs": [],
   "source": [
    "job_obj_list = [Test() for i in range(10)]"
   ]
  },
  {
   "cell_type": "code",
   "execution_count": 5,
   "id": "14e1817b",
   "metadata": {},
   "outputs": [
    {
     "name": "stdout",
     "output_type": "stream",
     "text": [
      "Running dask-cluster\n",
      "{'type': 'Scheduler', 'id': 'Scheduler-218cc5bc-1d54-4da1-af55-1cba8670578f', 'address': 'tcp://172.21.0.91:43965', 'services': {'dashboard': 8787}, 'started': 1732011292.3664289, 'workers': {}}\n"
     ]
    }
   ],
   "source": [
    "cluster = get_cluster(output_path=homedir)"
   ]
  },
  {
   "cell_type": "code",
   "execution_count": 6,
   "id": "16d432b9",
   "metadata": {},
   "outputs": [
    {
     "name": "stdout",
     "output_type": "stream",
     "text": [
      "Here 2\n"
     ]
    }
   ],
   "source": [
    "if HPC == True:\n",
    "    delayed_results = []\n",
    "    for model in job_obj_list:\n",
    "        brier_df = dask.delayed(run_parellel)(model)\n",
    "        delayed_results.append(brier_df)\n",
    "    print(\"Here 2\")\n",
    "    results = dask.compute(*delayed_results)"
   ]
  },
  {
   "cell_type": "code",
   "execution_count": 7,
   "id": "96454b7e",
   "metadata": {},
   "outputs": [
    {
     "name": "stdout",
     "output_type": "stream",
     "text": [
      "(1, 1, 1, 1, 1, 1, 1, 1, 1, 1)\n"
     ]
    }
   ],
   "source": [
    "print(results)"
   ]
  }
 ],
 "metadata": {
  "kernelspec": {
   "display_name": "Python [conda env:slcs]",
   "language": "python",
   "name": "conda-env-slcs-py"
  },
  "language_info": {
   "codemirror_mode": {
    "name": "ipython",
    "version": 3
   },
   "file_extension": ".py",
   "mimetype": "text/x-python",
   "name": "python",
   "nbconvert_exporter": "python",
   "pygments_lexer": "ipython3",
   "version": "3.9.19"
  }
 },
 "nbformat": 4,
 "nbformat_minor": 5
}
