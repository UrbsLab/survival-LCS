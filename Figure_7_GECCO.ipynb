{
 "cells": [
  {
   "cell_type": "markdown",
   "metadata": {},
   "source": [
    "# Code to run LCS-DIVE"
   ]
  },
  {
   "cell_type": "markdown",
   "metadata": {},
   "source": [
    "## Parameters and Setup"
   ]
  },
  {
   "cell_type": "code",
   "execution_count": 1,
   "metadata": {},
   "outputs": [],
   "source": [
    "import os\n",
    "import time\n",
    "import glob\n",
    "import shutil"
   ]
  },
  {
   "cell_type": "code",
   "execution_count": 2,
   "metadata": {},
   "outputs": [],
   "source": [
    "homedir = 'pipeline'\n",
    "model, nfeat, maf, censoring = 'epi', 'f100', 'maf0.4', '0.1'\n",
    "lcsdir = 'lcsdive/' + '_'.join([model, nfeat, maf, censoring])"
   ]
  },
  {
   "cell_type": "code",
   "execution_count": 3,
   "metadata": {},
   "outputs": [],
   "source": [
    "def make_folder(path, overwrite=True):\n",
    "    if not os.path.exists(path):\n",
    "        os.makedirs(path)\n",
    "    else:\n",
    "        if overwrite:\n",
    "            shutil.rmtree(path)\n",
    "            os.makedirs(path)"
   ]
  },
  {
   "cell_type": "code",
   "execution_count": 4,
   "metadata": {},
   "outputs": [],
   "source": [
    "make_folder(homedir + '/' + lcsdir + '/', overwrite=True)\n",
    "make_folder(homedir + '/' + lcsdir + '/cv_data/', overwrite=True)\n",
    "make_folder(homedir + '/' + lcsdir + '/cv_models/', overwrite=True)\n",
    "make_folder(homedir + '/' + lcsdir + '/output/', overwrite=True)"
   ]
  },
  {
   "cell_type": "code",
   "execution_count": 5,
   "metadata": {},
   "outputs": [],
   "source": [
    "cv_files = list(glob.glob(homedir + '/cv_sim_data/cv_' + model + '/' + model + '_' + nfeat + '_' + maf +\"/*.txt\"))\n",
    "cv_files = [n for n in cv_files if 'cens'+censoring in n]\n",
    "for file in cv_files:\n",
    "    shutil.copy(file, homedir + '/' + lcsdir + '/cv_data/')"
   ]
  },
  {
   "cell_type": "code",
   "execution_count": 6,
   "metadata": {},
   "outputs": [],
   "source": [
    "model_files = list(glob.glob(homedir + '/pickled_cv_models/' + model \\\n",
    "    + '/' + model + '_' + nfeat + '_' + maf + '/' + \"cens_\" + censoring + \"/*\"))\n",
    "model_files\n",
    "for file in model_files:\n",
    "    f_name = '_'.join(file.split('/')[-1].split('_')[:-1])\n",
    "    shutil.copy(file, homedir + '/' + lcsdir + '/cv_models/' + f_name)"
   ]
  },
  {
   "cell_type": "code",
   "execution_count": 7,
   "metadata": {},
   "outputs": [],
   "source": [
    "cmd = \\\n",
    "'python AnalysisPhase1_pretrained.py --d ' + homedir + '/' + lcsdir + '/cv_data/ \\\n",
    "--m ' + homedir + '/' + lcsdir + '/cv_models/ \\\n",
    "--o ' + homedir + '/' + lcsdir + '/output/ --e lcs_dive \\\n",
    "--time eventTime --status eventStatus \\\n",
    "--inst inst --cv 5 --cluster 1'"
   ]
  },
  {
   "cell_type": "code",
   "execution_count": 8,
   "metadata": {},
   "outputs": [
    {
     "name": "stdout",
     "output_type": "stream",
     "text": [
      "python AnalysisPhase1_pretrained.py --d pipeline/lcsdive/het_f100_maf0.4_0.1/cv_data/ --m pipeline/lcsdive/het_f100_maf0.4_0.1/cv_models/ --o pipeline/lcsdive/het_f100_maf0.4_0.1/output/ --e lcs_dive --time eventTime --status eventStatus --inst inst --cv 5 --cluster 1\n",
      "Submitted batch job 808188\n",
      "Submitted batch job 808189\n",
      "Submitted batch job 808190\n",
      "Submitted batch job 808191\n",
      "Submitted batch job 808192\n"
     ]
    },
    {
     "data": {
      "text/plain": [
       "0"
      ]
     },
     "execution_count": 8,
     "metadata": {},
     "output_type": "execute_result"
    }
   ],
   "source": [
    "print(cmd)\n",
    "os.system(cmd)"
   ]
  },
  {
   "cell_type": "code",
   "execution_count": 9,
   "metadata": {},
   "outputs": [],
   "source": [
    "time.sleep(80)"
   ]
  },
  {
   "cell_type": "code",
   "execution_count": 10,
   "metadata": {},
   "outputs": [],
   "source": [
    "cmd = 'python AnalysisPhase2.py --o ' + homedir + '/' + lcsdir + '/output/ --e lcs_dive --cluster 1'"
   ]
  },
  {
   "cell_type": "code",
   "execution_count": 11,
   "metadata": {},
   "outputs": [
    {
     "name": "stdout",
     "output_type": "stream",
     "text": [
      "python AnalysisPhase2.py --o pipeline/lcsdive/het_f100_maf0.4_0.1/output/ --e lcs_dive --cluster 1\n",
      "pipeline/lcsdive/het_f100_maf0.4_0.1/output//lcs_dive\n",
      "Submitted batch job 808194\n",
      "Submitted batch job 808195\n",
      "Submitted batch job 808196\n"
     ]
    },
    {
     "data": {
      "text/plain": [
       "0"
      ]
     },
     "execution_count": 11,
     "metadata": {},
     "output_type": "execute_result"
    }
   ],
   "source": [
    "print(cmd)\n",
    "os.system(cmd)"
   ]
  }
 ],
 "metadata": {
  "kernelspec": {
   "display_name": "slcs",
   "language": "python",
   "name": "python3"
  },
  "language_info": {
   "codemirror_mode": {
    "name": "ipython",
    "version": 3
   },
   "file_extension": ".py",
   "mimetype": "text/x-python",
   "name": "python",
   "nbconvert_exporter": "python",
   "pygments_lexer": "ipython3",
   "version": "3.9.19"
  }
 },
 "nbformat": 4,
 "nbformat_minor": 2
}
