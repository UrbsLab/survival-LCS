{
 "cells": [
  {
   "cell_type": "code",
   "execution_count": 51,
   "metadata": {},
   "outputs": [],
   "source": [
    "import numpy as np\n",
    "import pandas as pd\n",
    "from scipy.stats import wilcoxon\n"
   ]
  },
  {
   "cell_type": "code",
   "execution_count": 52,
   "metadata": {},
   "outputs": [],
   "source": [
    "def fun(col_name='me_f100_maf0.2_cens0.1'):\n",
    "    temp_df = df[[col_name, 'times']]\n",
    "    temp_df = temp_df.dropna()\n",
    "    try:\n",
    "        val = np.trapz(temp_df[col_name], temp_df['times']) / (list(temp_df['times'])[-1] - list(temp_df['times'])[0])\n",
    "    except Exception as e:\n",
    "#         print(col_name, e)\n",
    "        val = np.nan\n",
    "    return val"
   ]
  },
  {
   "cell_type": "code",
   "execution_count": 53,
   "metadata": {},
   "outputs": [],
   "source": [
    "df = pd.read_csv('pipeline/ibs_data_all.csv')"
   ]
  },
  {
   "cell_type": "code",
   "execution_count": 54,
   "metadata": {},
   "outputs": [],
   "source": [
    "ibs_df = pd.DataFrame(columns=['Dataset', 'IBS'])\n",
    "for col in df.columns:\n",
    "    if 'ci' not in col:\n",
    "        val = fun(col)\n",
    "        ibs_df = pd.concat([pd.DataFrame([[col,val]], columns=ibs_df.columns), ibs_df], ignore_index=True)\n",
    "ibs_df = ibs_df.drop(ibs_df.tail(1).index)\n",
    "ibs_df = ibs_df.reindex(index=ibs_df.index[::-1]).reset_index(drop=True)\n"
   ]
  },
  {
   "cell_type": "code",
   "execution_count": 55,
   "metadata": {},
   "outputs": [],
   "source": [
    "models = ['add', 'het', 'epi', 'me']\n",
    "nfeats = ['f100', 'f1000', 'f10000']\n",
    "mafs = ['maf0.2', 'maf0.4']\n",
    "censs = ['cens0.1', 'cens0.4', 'cens0.8']"
   ]
  },
  {
   "cell_type": "code",
   "execution_count": 56,
   "metadata": {},
   "outputs": [],
   "source": [
    "ibs_df[['model', 'nfeat', 'maf', 'cens']] = pd.DataFrame(list(ibs_df['Dataset'].str.split('_')))"
   ]
  },
  {
   "cell_type": "code",
   "execution_count": 57,
   "metadata": {},
   "outputs": [
    {
     "data": {
      "text/html": [
       "<div>\n",
       "<style scoped>\n",
       "    .dataframe tbody tr th:only-of-type {\n",
       "        vertical-align: middle;\n",
       "    }\n",
       "\n",
       "    .dataframe tbody tr th {\n",
       "        vertical-align: top;\n",
       "    }\n",
       "\n",
       "    .dataframe thead th {\n",
       "        text-align: right;\n",
       "    }\n",
       "</style>\n",
       "<table border=\"1\" class=\"dataframe\">\n",
       "  <thead>\n",
       "    <tr style=\"text-align: right;\">\n",
       "      <th>model 2</th>\n",
       "      <th>add</th>\n",
       "      <th>epi</th>\n",
       "      <th>het</th>\n",
       "      <th>me</th>\n",
       "    </tr>\n",
       "    <tr>\n",
       "      <th>model 1</th>\n",
       "      <th></th>\n",
       "      <th></th>\n",
       "      <th></th>\n",
       "      <th></th>\n",
       "    </tr>\n",
       "  </thead>\n",
       "  <tbody>\n",
       "    <tr>\n",
       "      <th>add</th>\n",
       "      <td>NaN</td>\n",
       "      <td>0.733727</td>\n",
       "      <td>0.048279</td>\n",
       "      <td>0.012032</td>\n",
       "    </tr>\n",
       "    <tr>\n",
       "      <th>epi</th>\n",
       "      <td>0.733727</td>\n",
       "      <td>NaN</td>\n",
       "      <td>0.264526</td>\n",
       "      <td>0.048279</td>\n",
       "    </tr>\n",
       "    <tr>\n",
       "      <th>het</th>\n",
       "      <td>0.048279</td>\n",
       "      <td>0.264526</td>\n",
       "      <td>NaN</td>\n",
       "      <td>0.369217</td>\n",
       "    </tr>\n",
       "    <tr>\n",
       "      <th>me</th>\n",
       "      <td>0.012032</td>\n",
       "      <td>0.048279</td>\n",
       "      <td>0.369217</td>\n",
       "      <td>NaN</td>\n",
       "    </tr>\n",
       "  </tbody>\n",
       "</table>\n",
       "</div>"
      ],
      "text/plain": [
       "model 2       add       epi       het        me\n",
       "model 1                                        \n",
       "add           NaN  0.733727  0.048279  0.012032\n",
       "epi      0.733727       NaN  0.264526  0.048279\n",
       "het      0.048279  0.264526       NaN  0.369217\n",
       "me       0.012032  0.048279  0.369217       NaN"
      ]
     },
     "execution_count": 57,
     "metadata": {},
     "output_type": "execute_result"
    }
   ],
   "source": [
    "models_wx = pd.DataFrame(columns=['model 1', 'model 2',  'Stat', 'p-val'])\n",
    "for i in models:\n",
    "    for j in models:\n",
    "        if i != j:\n",
    "            x = ibs_df[ibs_df['model']==i]['IBS']\n",
    "            y = ibs_df[ibs_df['model']==j]['IBS']\n",
    "            res = wilcoxon(x, y)\n",
    "            stat, pval = res.statistic, res.pvalue\n",
    "        else:\n",
    "            stat, pval = np.nan, np.nan\n",
    "        models_wx = pd.concat([pd.DataFrame([[i, j, stat, pval]], columns=models_wx.columns), models_wx], ignore_index=True)\n",
    "models_wx_ct = pd.crosstab(models_wx['model 1'], models_wx['model 2'], models_wx['p-val'], aggfunc='mean' )\n",
    "models_wx_ct"
   ]
  },
  {
   "cell_type": "code",
   "execution_count": 58,
   "metadata": {},
   "outputs": [
    {
     "data": {
      "text/html": [
       "<div>\n",
       "<style scoped>\n",
       "    .dataframe tbody tr th:only-of-type {\n",
       "        vertical-align: middle;\n",
       "    }\n",
       "\n",
       "    .dataframe tbody tr th {\n",
       "        vertical-align: top;\n",
       "    }\n",
       "\n",
       "    .dataframe thead th {\n",
       "        text-align: right;\n",
       "    }\n",
       "</style>\n",
       "<table border=\"1\" class=\"dataframe\">\n",
       "  <thead>\n",
       "    <tr style=\"text-align: right;\">\n",
       "      <th>nfeat 2</th>\n",
       "      <th>f100</th>\n",
       "      <th>f1000</th>\n",
       "      <th>f10000</th>\n",
       "    </tr>\n",
       "    <tr>\n",
       "      <th>nfeat 1</th>\n",
       "      <th></th>\n",
       "      <th></th>\n",
       "      <th></th>\n",
       "    </tr>\n",
       "  </thead>\n",
       "  <tbody>\n",
       "    <tr>\n",
       "      <th>f100</th>\n",
       "      <td>NaN</td>\n",
       "      <td>0.473166</td>\n",
       "      <td>0.988813</td>\n",
       "    </tr>\n",
       "    <tr>\n",
       "      <th>f1000</th>\n",
       "      <td>0.473166</td>\n",
       "      <td>NaN</td>\n",
       "      <td>0.704756</td>\n",
       "    </tr>\n",
       "    <tr>\n",
       "      <th>f10000</th>\n",
       "      <td>0.988813</td>\n",
       "      <td>0.704756</td>\n",
       "      <td>NaN</td>\n",
       "    </tr>\n",
       "  </tbody>\n",
       "</table>\n",
       "</div>"
      ],
      "text/plain": [
       "nfeat 2      f100     f1000    f10000\n",
       "nfeat 1                              \n",
       "f100          NaN  0.473166  0.988813\n",
       "f1000    0.473166       NaN  0.704756\n",
       "f10000   0.988813  0.704756       NaN"
      ]
     },
     "execution_count": 58,
     "metadata": {},
     "output_type": "execute_result"
    }
   ],
   "source": [
    "nfeats_wx = pd.DataFrame(columns=['nfeat 1', 'nfeat 2',  'Stat', 'p-val'])\n",
    "for i in nfeats:\n",
    "    for j in nfeats:\n",
    "        if i != j:\n",
    "            x = ibs_df[ibs_df['nfeat']==i]['IBS']\n",
    "            y = ibs_df[ibs_df['nfeat']==j]['IBS']\n",
    "            res = wilcoxon(x, y)\n",
    "            stat, pval = res.statistic, res.pvalue\n",
    "        else:\n",
    "            stat, pval = np.nan, np.nan\n",
    "        nfeats_wx = pd.concat([pd.DataFrame([[i, j, stat, pval]], columns=nfeats_wx.columns), nfeats_wx], ignore_index=True)\n",
    "nfeats_wx_ct = pd.crosstab(nfeats_wx['nfeat 1'], nfeats_wx['nfeat 2'], nfeats_wx['p-val'], aggfunc='mean' )\n",
    "nfeats_wx_ct"
   ]
  },
  {
   "cell_type": "code",
   "execution_count": 59,
   "metadata": {},
   "outputs": [
    {
     "data": {
      "text/html": [
       "<div>\n",
       "<style scoped>\n",
       "    .dataframe tbody tr th:only-of-type {\n",
       "        vertical-align: middle;\n",
       "    }\n",
       "\n",
       "    .dataframe tbody tr th {\n",
       "        vertical-align: top;\n",
       "    }\n",
       "\n",
       "    .dataframe thead th {\n",
       "        text-align: right;\n",
       "    }\n",
       "</style>\n",
       "<table border=\"1\" class=\"dataframe\">\n",
       "  <thead>\n",
       "    <tr style=\"text-align: right;\">\n",
       "      <th>maf 2</th>\n",
       "      <th>maf0.2</th>\n",
       "      <th>maf0.4</th>\n",
       "    </tr>\n",
       "    <tr>\n",
       "      <th>maf 1</th>\n",
       "      <th></th>\n",
       "      <th></th>\n",
       "    </tr>\n",
       "  </thead>\n",
       "  <tbody>\n",
       "    <tr>\n",
       "      <th>maf0.2</th>\n",
       "      <td>NaN</td>\n",
       "      <td>0.981432</td>\n",
       "    </tr>\n",
       "    <tr>\n",
       "      <th>maf0.4</th>\n",
       "      <td>0.981432</td>\n",
       "      <td>NaN</td>\n",
       "    </tr>\n",
       "  </tbody>\n",
       "</table>\n",
       "</div>"
      ],
      "text/plain": [
       "maf 2     maf0.2    maf0.4\n",
       "maf 1                     \n",
       "maf0.2       NaN  0.981432\n",
       "maf0.4  0.981432       NaN"
      ]
     },
     "execution_count": 59,
     "metadata": {},
     "output_type": "execute_result"
    }
   ],
   "source": [
    "mafs_wx = pd.DataFrame(columns=['maf 1', 'maf 2',  'Stat', 'p-val'])\n",
    "for i in mafs:\n",
    "    for j in mafs:\n",
    "        if i != j:\n",
    "            x = ibs_df[ibs_df['maf']==i]['IBS']\n",
    "            y = ibs_df[ibs_df['maf']==j]['IBS']\n",
    "            res = wilcoxon(x, y)\n",
    "            stat, pval = res.statistic, res.pvalue\n",
    "        else:\n",
    "            stat, pval = np.nan, np.nan\n",
    "        mafs_wx = pd.concat([pd.DataFrame([[i, j, stat, pval]], columns=mafs_wx.columns), mafs_wx], ignore_index=True)\n",
    "mafs_wx_ct = pd.crosstab(mafs_wx['maf 1'], mafs_wx['maf 2'], mafs_wx['p-val'], aggfunc='mean' )\n",
    "mafs_wx_ct"
   ]
  },
  {
   "cell_type": "code",
   "execution_count": 61,
   "metadata": {},
   "outputs": [
    {
     "data": {
      "text/plain": [
       "['0.1', '0.4', '0.8']"
      ]
     },
     "execution_count": 61,
     "metadata": {},
     "output_type": "execute_result"
    }
   ],
   "source": [
    "censs"
   ]
  },
  {
   "cell_type": "code",
   "execution_count": 62,
   "metadata": {},
   "outputs": [
    {
     "data": {
      "text/html": [
       "<div>\n",
       "<style scoped>\n",
       "    .dataframe tbody tr th:only-of-type {\n",
       "        vertical-align: middle;\n",
       "    }\n",
       "\n",
       "    .dataframe tbody tr th {\n",
       "        vertical-align: top;\n",
       "    }\n",
       "\n",
       "    .dataframe thead th {\n",
       "        text-align: right;\n",
       "    }\n",
       "</style>\n",
       "<table border=\"1\" class=\"dataframe\">\n",
       "  <thead>\n",
       "    <tr style=\"text-align: right;\">\n",
       "      <th>cens 2</th>\n",
       "    </tr>\n",
       "    <tr>\n",
       "      <th>cens 1</th>\n",
       "    </tr>\n",
       "  </thead>\n",
       "  <tbody>\n",
       "  </tbody>\n",
       "</table>\n",
       "</div>"
      ],
      "text/plain": [
       "Empty DataFrame\n",
       "Columns: []\n",
       "Index: []"
      ]
     },
     "execution_count": 62,
     "metadata": {},
     "output_type": "execute_result"
    }
   ],
   "source": [
    "censs_wx = pd.DataFrame(columns=['cens 1', 'cens 2',  'Stat', 'p-val'])\n",
    "for i in censs:\n",
    "    for j in censs:\n",
    "        if i != j:\n",
    "            x = ibs_df[ibs_df['cens']==i]['IBS']\n",
    "            y = ibs_df[ibs_df['cens']==j]['IBS']\n",
    "            res = wilcoxon(x, y)\n",
    "            stat, pval = res.statistic, res.pvalue\n",
    "        else:\n",
    "            stat, pval = np.nan, np.nan\n",
    "        censs_wx = pd.concat([pd.DataFrame([[i, j, stat, pval]], columns=censs_wx.columns), censs_wx], ignore_index=True)\n",
    "censs_wx_ct = pd.crosstab(censs_wx['cens 1'], censs_wx['cens 2'], censs_wx['p-val'], aggfunc='mean' )\n",
    "censs_wx_ct"
   ]
  },
  {
   "cell_type": "code",
   "execution_count": null,
   "metadata": {},
   "outputs": [],
   "source": []
  }
 ],
 "metadata": {
  "kernelspec": {
   "display_name": "slcs",
   "language": "python",
   "name": "python3"
  },
  "language_info": {
   "codemirror_mode": {
    "name": "ipython",
    "version": 3
   },
   "file_extension": ".py",
   "mimetype": "text/x-python",
   "name": "python",
   "nbconvert_exporter": "python",
   "pygments_lexer": "ipython3",
   "version": "3.9.19"
  }
 },
 "nbformat": 4,
 "nbformat_minor": 2
}
