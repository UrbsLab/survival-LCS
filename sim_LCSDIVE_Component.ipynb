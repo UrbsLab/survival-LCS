{
 "cells": [
  {
   "cell_type": "markdown",
   "metadata": {},
   "source": [
    "# Code to run LCS-DIVE"
   ]
  },
  {
   "cell_type": "markdown",
   "metadata": {},
   "source": [
    "## Parameters and Setup"
   ]
  },
  {
   "cell_type": "code",
   "execution_count": 26,
   "metadata": {},
   "outputs": [],
   "source": [
    "import os\n",
    "import glob\n",
    "import shutil"
   ]
  },
  {
   "cell_type": "code",
   "execution_count": 27,
   "metadata": {},
   "outputs": [],
   "source": [
    "homedir = 'pipeline'\n",
    "lcsdir = 'lcsdive/exp1'\n",
    "model, nfeat, maf, censoring = 'epi', 'f1000', 'maf0.2', '0.1'"
   ]
  },
  {
   "cell_type": "code",
   "execution_count": 28,
   "metadata": {},
   "outputs": [],
   "source": [
    "def make_folder(path, overwrite=True):\n",
    "    if not os.path.exists(path):\n",
    "        os.makedirs(path)\n",
    "    else:\n",
    "        if overwrite:\n",
    "            shutil.rmtree(path)\n",
    "            os.makedirs(path)"
   ]
  },
  {
   "cell_type": "code",
   "execution_count": 29,
   "metadata": {},
   "outputs": [],
   "source": [
    "make_folder(homedir + '/' + lcsdir + '/', overwrite=True)\n",
    "make_folder(homedir + '/' + lcsdir + '/cv_data/', overwrite=True)\n",
    "make_folder(homedir + '/' + lcsdir + '/cv_models/', overwrite=True)\n",
    "make_folder(homedir + '/' + lcsdir + '/output/', overwrite=True)"
   ]
  },
  {
   "cell_type": "code",
   "execution_count": 30,
   "metadata": {},
   "outputs": [],
   "source": [
    "cv_files = list(glob.glob(homedir + '/cv_sim_data/cv_' + model + '/' + model + '_' + nfeat + '_' + maf +\"/*.txt\"))\n",
    "cv_files = [n for n in cv_files if 'cens'+censoring in n]\n",
    "for file in cv_files:\n",
    "    shutil.copy(file, homedir + '/' + lcsdir + '/cv_data/')"
   ]
  },
  {
   "cell_type": "code",
   "execution_count": 31,
   "metadata": {},
   "outputs": [],
   "source": [
    "model_files = list(glob.glob(homedir + '/pickled_cv_models/' + model \\\n",
    "    + '/' + model + '_' + nfeat + '_' + maf + '/' + \"cens_\" + censoring + \"/*\"))\n",
    "model_files\n",
    "for file in model_files:\n",
    "    f_name = '_'.join(file.split('/')[-1].split('_')[:-1])\n",
    "    shutil.copy(file, homedir + '/' + lcsdir + '/cv_models/' + f_name)"
   ]
  },
  {
   "cell_type": "code",
   "execution_count": 32,
   "metadata": {},
   "outputs": [],
   "source": [
    "cmd = \\\n",
    "'python AnalysisPhase1_pretrained.py --d ' + homedir + '/' + lcsdir + '/cv_data/ \\\n",
    "--m ' + homedir + '/' + lcsdir + '/cv_models/ \\\n",
    "--o ' + homedir + '/' + lcsdir + '/output/ --e lcs_dive \\\n",
    "--time eventTime --status eventStatus \\\n",
    "--inst inst --cv 5 --cluster 1'"
   ]
  },
  {
   "cell_type": "code",
   "execution_count": 33,
   "metadata": {},
   "outputs": [
    {
     "data": {
      "text/plain": [
       "'python AnalysisPhase1_pretrained.py --d pipeline/lcsdive/exp1/cv_data/ --m pipeline/lcsdive/exp1/cv_models/ --o pipeline/lcsdive/exp1/output/ --e lcs_dive --time eventTime --status eventStatus --inst inst --cv 5 --cluster 1'"
      ]
     },
     "execution_count": 33,
     "metadata": {},
     "output_type": "execute_result"
    }
   ],
   "source": [
    "cmd"
   ]
  },
  {
   "cell_type": "code",
   "execution_count": 34,
   "metadata": {},
   "outputs": [],
   "source": [
    "cmd = 'python AnalysisPhase2.py --o ' + homedir + '/' + lcsdir + '/output/ --e lcs_dive --cluster 1'"
   ]
  },
  {
   "cell_type": "code",
   "execution_count": 16,
   "metadata": {},
   "outputs": [
    {
     "data": {
      "text/plain": [
       "'python AnalysisPhase2.py --o pipeline/lcsdive/exp1/output/ --e lcs_dive --cluster 1'"
      ]
     },
     "execution_count": 16,
     "metadata": {},
     "output_type": "execute_result"
    }
   ],
   "source": [
    "cmd"
   ]
  }
 ],
 "metadata": {
  "kernelspec": {
   "display_name": "slcs",
   "language": "python",
   "name": "python3"
  },
  "language_info": {
   "codemirror_mode": {
    "name": "ipython",
    "version": 3
   },
   "file_extension": ".py",
   "mimetype": "text/x-python",
   "name": "python",
   "nbconvert_exporter": "python",
   "pygments_lexer": "ipython3",
   "version": "3.9.19"
  }
 },
 "nbformat": 4,
 "nbformat_minor": 2
}
