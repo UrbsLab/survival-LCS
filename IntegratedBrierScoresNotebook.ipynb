{
 "cells": [
  {
   "cell_type": "code",
   "execution_count": 1,
   "id": "cd5b6797",
   "metadata": {},
   "outputs": [],
   "source": [
    "import pandas as pd\n",
    "import numpy as np"
   ]
  },
  {
   "cell_type": "code",
   "execution_count": 2,
   "id": "64d781f7",
   "metadata": {},
   "outputs": [],
   "source": [
    "df = pd.read_csv('pipeline_final/sim_lcs_output/het/ibs_data_heterogeneous.txt')"
   ]
  },
  {
   "cell_type": "code",
   "execution_count": 3,
   "id": "5f6a6365",
   "metadata": {},
   "outputs": [],
   "source": [
    "df1 = pd.read_csv('pipeline_final/sim_lcs_output/add/ibs_data_additive.txt')"
   ]
  },
  {
   "cell_type": "code",
   "execution_count": 4,
   "id": "60f1944b",
   "metadata": {},
   "outputs": [],
   "source": [
    "l1 = list(df.columns)"
   ]
  },
  {
   "cell_type": "code",
   "execution_count": 5,
   "id": "c1f3a6bb",
   "metadata": {},
   "outputs": [],
   "source": [
    "l2 = list(df1.columns)"
   ]
  },
  {
   "cell_type": "code",
   "execution_count": 6,
   "id": "f6957adb",
   "metadata": {},
   "outputs": [],
   "source": [
    "for col in df.columns:\n",
    "    if col != 'times' and 'het' not in col:\n",
    "        df=df.drop(col, axis=1)"
   ]
  },
  {
   "cell_type": "code",
   "execution_count": 7,
   "id": "67a91b69",
   "metadata": {},
   "outputs": [],
   "source": [
    "def fun(col_name='me_f100_maf0.2_cens0.1'):\n",
    "    temp_df = df[[col_name, 'times']]\n",
    "    temp_df = temp_df.dropna()\n",
    "    try:\n",
    "        val = np.trapz(temp_df[col_name], temp_df['times']) / (list(temp_df['times'])[-1] - list(temp_df['times'])[0])\n",
    "    except Exception as e:\n",
    "#         print(col_name, e)\n",
    "        val = np.nan\n",
    "    return val"
   ]
  },
  {
   "cell_type": "code",
   "execution_count": 9,
   "id": "535edfb4",
   "metadata": {},
   "outputs": [
    {
     "name": "stdout",
     "output_type": "stream",
     "text": [
      " \\multirow{6}{*}{100} & \\multirow{3}{*}{0.2} & 10\\% & 0.18435 & 0.17098 & 0.20162 \\\\\n",
      " & & 40\\% & 0.26741 & 0.22277 & 0.32298 \\\\\n",
      " & & 80\\% & 0.44848 & 0.44848 & 0.44848 \\\\\n",
      " & \\multirow{3}{*}{0.4} & 10\\% & 0.13624 & 0.12444 & 0.15147 \\\\\n",
      " & & 40\\% & 0.2199 & 0.15286 & 0.30337 \\\\\n",
      " & & 80\\% & 0.1753 & 0.14206 & 0.2182 \\\\\n",
      " \\hline \\multirow{6}{*}{1000} & \\multirow{3}{*}{0.2} & 10\\% & 0.17213 & 0.13847 & 0.2156 \\\\\n",
      " & & 40\\% & 0.17794 & 0.14736 & 0.21741 \\\\\n",
      " & & 80\\% & 0.12212 & 0.05817 & 0.20467 \\\\\n",
      " & \\multirow{3}{*}{0.4} & 10\\% & 0.16356 & 0.13646 & 0.19731 \\\\\n",
      " & & 40\\% & 0.25603 & 0.20511 & 0.31944 \\\\\n",
      " & & 80\\% & 0.20424 & 0.06321 & 0.38632 \\\\\n",
      " \\hline \\multirow{6}{*}{10000} & \\multirow{3}{*}{0.2} & 10\\% & 0.13218 & 0.1193 & 0.14882 \\\\\n",
      " & & 40\\% & 0.24944 & 0.19124 & 0.3219 \\\\\n",
      " & & 80\\% & 0.46124 & 0.46124 & 0.46124 \\\\\n",
      " & \\multirow{3}{*}{0.4} & 10\\% & 0.08252 & 0.06782 & 0.1015 \\\\\n",
      " & & 40\\% & 0.25925 & 0.18888 & 0.34685 \\\\\n",
      " & & 80\\% & 0.12754 & 0.10535 & 0.15618 \\\\\n",
      " \\hline"
     ]
    }
   ],
   "source": [
    "for i in range(len(df.columns)):\n",
    "    if df.columns[i]!='times' and 'het' in df.columns[i]:\n",
    "        if i%3==1:\n",
    "            if i==1:\n",
    "                print(' \\multirow{6}{*}{100} & \\multirow{3}{*}{0.2} & ', end='')\n",
    "            elif i==10 or i==6*3+10 or i==12*3+10:\n",
    "                print(' & \\multirow{3}{*}{0.4} & ', end='')\n",
    "            elif i==6*3+1:\n",
    "                print(' \\multirow{6}{*}{1000} & \\multirow{3}{*}{0.2} & ', end='')\n",
    "            elif i==12*3+1:\n",
    "                print(' \\multirow{6}{*}{10000} & \\multirow{3}{*}{0.2} & ', end='')\n",
    "            else:\n",
    "                print(' & & ', end='')\n",
    "        if i%9==1:\n",
    "            print('10\\%', end=' & ')\n",
    "        if i%9==4:\n",
    "            print('40\\%', end=' & ')\n",
    "        if i%9==7:\n",
    "            print('80\\%', end=' & ')\n",
    "            \n",
    "        print(round(fun(df.columns[i]),5), end='')\n",
    "        if not i%3:\n",
    "            print(\" \\\\\\\\\")\n",
    "        else:\n",
    "            print(' & ', end='')\n",
    "        if not i%(6*3):\n",
    "            print(' \\hline', end='')"
   ]
  },
  {
   "cell_type": "code",
   "execution_count": null,
   "id": "b7de52c5",
   "metadata": {},
   "outputs": [],
   "source": []
  },
  {
   "cell_type": "code",
   "execution_count": null,
   "id": "e03cdc1d",
   "metadata": {},
   "outputs": [],
   "source": []
  }
 ],
 "metadata": {
  "kernelspec": {
   "display_name": "Python 3 (ipykernel)",
   "language": "python",
   "name": "python3"
  },
  "language_info": {
   "codemirror_mode": {
    "name": "ipython",
    "version": 3
   },
   "file_extension": ".py",
   "mimetype": "text/x-python",
   "name": "python",
   "nbconvert_exporter": "python",
   "pygments_lexer": "ipython3",
   "version": "3.9.13"
  }
 },
 "nbformat": 4,
 "nbformat_minor": 5
}
