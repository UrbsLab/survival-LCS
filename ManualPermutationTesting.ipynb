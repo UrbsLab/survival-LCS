{
 "cells": [
  {
   "cell_type": "code",
   "execution_count": null,
   "metadata": {},
   "outputs": [],
   "source": [
    "import numpy as np\n",
    "import pandas as pd"
   ]
  },
  {
   "cell_type": "code",
   "execution_count": null,
   "metadata": {},
   "outputs": [],
   "source": [
    "def fun(col_name='me_f100_maf0.2_cens0.1'):\n",
    "    temp_df = df[[col_name, 'times']]\n",
    "    temp_df = temp_df.dropna()\n",
    "    try:\n",
    "        val = np.trapz(temp_df[col_name], temp_df['times']) / (list(temp_df['times'])[-1] - list(temp_df['times'])[0])\n",
    "    except Exception as e:\n",
    "#         print(col_name, e)\n",
    "        val = np.nan\n",
    "    return val"
   ]
  },
  {
   "cell_type": "code",
   "execution_count": null,
   "metadata": {},
   "outputs": [],
   "source": [
    "df = pd.read_csv('pipeline/ibs_data_all.csv')"
   ]
  }
 ],
 "metadata": {
  "language_info": {
   "name": "python"
  }
 },
 "nbformat": 4,
 "nbformat_minor": 2
}
