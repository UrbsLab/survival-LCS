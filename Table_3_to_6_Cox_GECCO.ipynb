{
 "cells": [
  {
   "cell_type": "code",
   "execution_count": 13,
   "id": "cd5b6797",
   "metadata": {},
   "outputs": [],
   "source": [
    "import pandas as pd\n",
    "import numpy as np"
   ]
  },
  {
   "cell_type": "code",
   "execution_count": 14,
   "id": "64d781f7",
   "metadata": {},
   "outputs": [],
   "source": [
    "homedir = 'pipeline'\n",
    "df = pd.read_csv(homedir + '/cox_ibs_data_all.csv')"
   ]
  },
  {
   "cell_type": "code",
   "execution_count": 15,
   "id": "11997a4e",
   "metadata": {},
   "outputs": [],
   "source": [
    "def fun(col_name='me_f100_maf0.2_cens0.1'):\n",
    "    temp_df = df[[col_name, 'times']]\n",
    "    temp_df = temp_df.dropna()\n",
    "    try:\n",
    "        val = np.trapz(temp_df[col_name], temp_df['times']) / (list(temp_df['times'])[-1] - list(temp_df['times'])[0])\n",
    "    except Exception as e:\n",
    "#         print(col_name, e)\n",
    "        val = np.nan\n",
    "    return val"
   ]
  },
  {
   "cell_type": "code",
   "execution_count": 16,
   "id": "f6957adb",
   "metadata": {},
   "outputs": [],
   "source": [
    "drop_cols = list()\n",
    "for col in df.columns:\n",
    "    if col != 'times' and 'add' not in col:\n",
    "        drop_cols.append(col)\n",
    "df_add = df.drop(drop_cols, axis=1)"
   ]
  },
  {
   "cell_type": "code",
   "execution_count": 17,
   "id": "67a91b69",
   "metadata": {},
   "outputs": [],
   "source": [
    "drop_cols = list()\n",
    "for col in df.columns:\n",
    "    if col != 'times' and 'epi' not in col:\n",
    "        drop_cols.append(col)\n",
    "df_epi = df.drop(drop_cols, axis=1)"
   ]
  },
  {
   "cell_type": "code",
   "execution_count": 18,
   "id": "032a7f1d",
   "metadata": {},
   "outputs": [],
   "source": [
    "drop_cols = list()\n",
    "for col in df.columns:\n",
    "    if col != 'times' and 'het' not in col:\n",
    "        drop_cols.append(col)\n",
    "df_het = df.drop(drop_cols, axis=1)"
   ]
  },
  {
   "cell_type": "code",
   "execution_count": 19,
   "id": "f12f7062",
   "metadata": {},
   "outputs": [],
   "source": [
    "drop_cols = list()\n",
    "for col in df.columns:\n",
    "    if col != 'times' and 'me' not in col:\n",
    "        drop_cols.append(col)\n",
    "df_me = df.drop(drop_cols, axis=1)"
   ]
  },
  {
   "cell_type": "code",
   "execution_count": 20,
   "id": "535edfb4",
   "metadata": {},
   "outputs": [],
   "source": [
    "def make_latex_table(df):\n",
    "    for i in range(len(df.columns)):\n",
    "        if df.columns[i]!='times': #and 'het' in df.columns[i]:\n",
    "            if i%3==1:\n",
    "                if i==1:\n",
    "                    print(' \\multirow{6}{*}{100} & \\multirow{3}{*}{0.2} & ', end='')\n",
    "                elif i==10 or i==6*3+10 or i==12*3+10:\n",
    "                    print(' & \\multirow{3}{*}{0.4} & ', end='')\n",
    "                elif i==6*3+1:\n",
    "                    print(' \\multirow{6}{*}{1000} & \\multirow{3}{*}{0.2} & ', end='')\n",
    "                elif i==12*3+1:\n",
    "                    print(' \\multirow{6}{*}{10000} & \\multirow{3}{*}{0.2} & ', end='')\n",
    "                else:\n",
    "                    print(' & & ', end='')\n",
    "            if i%9==1:\n",
    "                print('10\\%', end=' & ')\n",
    "            if i%9==4:\n",
    "                print('40\\%', end=' & ')\n",
    "            if i%9==7:\n",
    "                print('80\\%', end=' & ')\n",
    "                \n",
    "            print(round(fun(df.columns[i]),5), end='')\n",
    "            if not i%3:\n",
    "                print(\" \\\\\\\\\")\n",
    "            else:\n",
    "                print(' & ', end='')\n",
    "            if not i%(6*3):\n",
    "                print(' \\hline', end='')"
   ]
  },
  {
   "cell_type": "code",
   "execution_count": 21,
   "id": "b7de52c5",
   "metadata": {},
   "outputs": [
    {
     "name": "stdout",
     "output_type": "stream",
     "text": [
      " \\multirow{6}{*}{100} & \\multirow{3}{*}{0.2} & 10\\% & 0.16587 & 0.14502 & 0.19063 \\\\\n",
      " & & 40\\% & 0.10996 & 0.07914 & 0.1473 \\\\\n",
      " & & 80\\% & 0.25424 & 0.13294 & 0.39975 \\\\\n",
      " & \\multirow{3}{*}{0.4} & 10\\% & 0.06866 & 0.05557 & 0.08419 \\\\\n",
      " & & 40\\% & 0.09994 & 0.06814 & 0.13795 \\\\\n",
      " & & 80\\% & 0.14599 & 0.05426 & 0.25563 \\\\\n",
      " \\hline \\multirow{6}{*}{1000} & \\multirow{3}{*}{0.2} & 10\\% & nan & nan & nan \\\\\n",
      " & & 40\\% & nan & nan & nan \\\\\n",
      " & & 80\\% & nan & nan & nan \\\\\n",
      " & \\multirow{3}{*}{0.4} & 10\\% & nan & nan & nan \\\\\n",
      " & & 40\\% & nan & nan & nan \\\\\n",
      " & & 80\\% & nan & nan & nan \\\\\n",
      " \\hline \\multirow{6}{*}{10000} & \\multirow{3}{*}{0.2} & 10\\% & nan & nan & nan \\\\\n",
      " & & 40\\% & nan & nan & nan \\\\\n",
      " & & 80\\% & nan & nan & nan \\\\\n",
      " & \\multirow{3}{*}{0.4} & 10\\% & nan & nan & nan \\\\\n",
      " & & 40\\% & nan & nan & nan \\\\\n",
      " & & 80\\% & nan & nan & nan \\\\\n",
      " \\hline"
     ]
    }
   ],
   "source": [
    "make_latex_table(df_me)"
   ]
  },
  {
   "cell_type": "code",
   "execution_count": 22,
   "id": "e03cdc1d",
   "metadata": {},
   "outputs": [
    {
     "name": "stdout",
     "output_type": "stream",
     "text": [
      " \\multirow{6}{*}{100} & \\multirow{3}{*}{0.2} & 10\\% & 0.07628 & 0.05119 & 0.10615 \\\\\n",
      " & & 40\\% & 0.17795 & 0.15684 & 0.20339 \\\\\n",
      " & & 80\\% & 0.19598 & 0.09685 & 0.31445 \\\\\n",
      " & \\multirow{3}{*}{0.4} & 10\\% & 0.17613 & 0.15199 & 0.20478 \\\\\n",
      " & & 40\\% & 0.2354 & 0.21129 & 0.26406 \\\\\n",
      " & & 80\\% & 0.15273 & 0.09639 & 0.2196 \\\\\n",
      " \\hline \\multirow{6}{*}{1000} & \\multirow{3}{*}{0.2} & 10\\% & nan & nan & nan \\\\\n",
      " & & 40\\% & nan & nan & nan \\\\\n",
      " & & 80\\% & nan & nan & nan \\\\\n",
      " & \\multirow{3}{*}{0.4} & 10\\% & nan & nan & nan \\\\\n",
      " & & 40\\% & nan & nan & nan \\\\\n",
      " & & 80\\% & nan & nan & nan \\\\\n",
      " \\hline \\multirow{6}{*}{10000} & \\multirow{3}{*}{0.2} & 10\\% & nan & nan & nan \\\\\n",
      " & & 40\\% & nan & nan & nan \\\\\n",
      " & & 80\\% & nan & nan & nan \\\\\n",
      " & \\multirow{3}{*}{0.4} & 10\\% & nan & nan & nan \\\\\n",
      " & & 40\\% & nan & nan & nan \\\\\n",
      " & & 80\\% & nan & nan & nan \\\\\n",
      " \\hline"
     ]
    }
   ],
   "source": [
    "make_latex_table(df_epi)"
   ]
  },
  {
   "cell_type": "code",
   "execution_count": 23,
   "id": "6051d205",
   "metadata": {},
   "outputs": [
    {
     "name": "stdout",
     "output_type": "stream",
     "text": [
      " \\multirow{6}{*}{100} & \\multirow{3}{*}{0.2} & 10\\% & 0.14554 & 0.12583 & 0.16898 \\\\\n",
      " & & 40\\% & 0.18045 & 0.1484 & 0.21857 \\\\\n",
      " & & 80\\% & 0.17273 & 0.0963 & 0.26335 \\\\\n",
      " & \\multirow{3}{*}{0.4} & 10\\% & 0.08906 & 0.06227 & 0.12089 \\\\\n",
      " & & 40\\% & 0.1388 & 0.10674 & 0.17717 \\\\\n",
      " & & 80\\% & 0.25722 & 0.1577 & 0.3797 \\\\\n",
      " \\hline \\multirow{6}{*}{1000} & \\multirow{3}{*}{0.2} & 10\\% & nan & nan & nan \\\\\n",
      " & & 40\\% & nan & nan & nan \\\\\n",
      " & & 80\\% & nan & nan & nan \\\\\n",
      " & \\multirow{3}{*}{0.4} & 10\\% & nan & nan & nan \\\\\n",
      " & & 40\\% & nan & nan & nan \\\\\n",
      " & & 80\\% & nan & nan & nan \\\\\n",
      " \\hline \\multirow{6}{*}{10000} & \\multirow{3}{*}{0.2} & 10\\% & nan & nan & nan \\\\\n",
      " & & 40\\% & nan & nan & nan \\\\\n",
      " & & 80\\% & nan & nan & nan \\\\\n",
      " & \\multirow{3}{*}{0.4} & 10\\% & nan & nan & nan \\\\\n",
      " & & 40\\% & nan & nan & nan \\\\\n",
      " & & 80\\% & nan & nan & nan \\\\\n",
      " \\hline"
     ]
    }
   ],
   "source": [
    "make_latex_table(df_het)"
   ]
  },
  {
   "cell_type": "code",
   "execution_count": 24,
   "id": "0e712532",
   "metadata": {},
   "outputs": [
    {
     "name": "stdout",
     "output_type": "stream",
     "text": [
      " \\multirow{6}{*}{100} & \\multirow{3}{*}{0.2} & 10\\% & 0.05344 & 0.04239 & 0.06676 \\\\\n",
      " & & 40\\% & 0.10818 & 0.08809 & 0.13201 \\\\\n",
      " & & 80\\% & 0.08676 & 0.05411 & 0.12548 \\\\\n",
      " & \\multirow{3}{*}{0.4} & 10\\% & 0.1228 & 0.10689 & 0.14167 \\\\\n",
      " & & 40\\% & 0.10806 & 0.07984 & 0.14159 \\\\\n",
      " & & 80\\% & 0.15282 & 0.0957 & 0.22058 \\\\\n",
      " \\hline \\multirow{6}{*}{1000} & \\multirow{3}{*}{0.2} & 10\\% & nan & nan & nan \\\\\n",
      " & & 40\\% & nan & nan & nan \\\\\n",
      " & & 80\\% & nan & nan & nan \\\\\n",
      " & \\multirow{3}{*}{0.4} & 10\\% & nan & nan & nan \\\\\n",
      " & & 40\\% & nan & nan & nan \\\\\n",
      " & & 80\\% & nan & nan & nan \\\\\n",
      " \\hline \\multirow{6}{*}{10000} & \\multirow{3}{*}{0.2} & 10\\% & nan & nan & nan \\\\\n",
      " & & 40\\% & nan & nan & nan \\\\\n",
      " & & 80\\% & nan & nan & nan \\\\\n",
      " & \\multirow{3}{*}{0.4} & 10\\% & nan & nan & nan \\\\\n",
      " & & 40\\% & nan & nan & nan \\\\\n",
      " & & 80\\% & nan & nan & nan \\\\\n",
      " \\hline"
     ]
    }
   ],
   "source": [
    "make_latex_table(df_add)"
   ]
  }
 ],
 "metadata": {
  "kernelspec": {
   "display_name": "Python 3 (ipykernel)",
   "language": "python",
   "name": "python3"
  },
  "language_info": {
   "codemirror_mode": {
    "name": "ipython",
    "version": 3
   },
   "file_extension": ".py",
   "mimetype": "text/x-python",
   "name": "python",
   "nbconvert_exporter": "python",
   "pygments_lexer": "ipython3",
   "version": "3.9.19"
  }
 },
 "nbformat": 4,
 "nbformat_minor": 5
}
